{
 "cells": [
  {
   "cell_type": "markdown",
   "id": "92f9f51d-80df-4b99-a6eb-aad690839ba3",
   "metadata": {},
   "source": [
    "## Cargando el modelo"
   ]
  },
  {
   "cell_type": "code",
   "execution_count": 1,
   "id": "71116b5b-1beb-4440-aaaf-6d7028aa08d3",
   "metadata": {},
   "outputs": [
    {
     "name": "stderr",
     "output_type": "stream",
     "text": [
      "/home/chr/dino_lora/src/dinov2/layers/swiglu_ffn.py:51: UserWarning: xFormers is not available (SwiGLU)\n",
      "  warnings.warn(\"xFormers is not available (SwiGLU)\")\n",
      "/home/chr/dino_lora/src/dinov2/layers/attention.py:33: UserWarning: xFormers is not available (Attention)\n",
      "  warnings.warn(\"xFormers is not available (Attention)\")\n",
      "/home/chr/dino_lora/src/dinov2/layers/block.py:44: UserWarning: xFormers is not available (Block)\n",
      "  warnings.warn(\"xFormers is not available (Block)\")\n",
      "/home/chr/dino_lora/src/dinov2/layers/block_vis.py:40: UserWarning: xFormers is not available (Block)\n",
      "  warnings.warn(\"xFormers is not available (Block)\")\n"
     ]
    }
   ],
   "source": [
    "from PIL import Image\n",
    "\n",
    "import torch\n",
    "import torch.nn.functional as F\n",
    "import torchvision.transforms as transforms\n",
    "import torchvision.ops as ops\n",
    "from torch.utils.data import DataLoader\n",
    "from torch.utils.data import Dataset\n",
    "from PIL import Image, ImageOps\n",
    "\n",
    "import matplotlib.pyplot as plt\n",
    "import numpy as np\n",
    "\n",
    "import pandas as pd\n",
    "\n",
    "import sys\n",
    "sys.path.append('/home/chr/dino_lora/')\n",
    "sys.argv = ['']\n",
    "\n",
    "from src.model_with_lora import Model, opts"
   ]
  },
  {
   "cell_type": "code",
   "execution_count": 16,
   "id": "52e21ccc-c7d4-4b92-a3e7-83db7de6b4f4",
   "metadata": {},
   "outputs": [],
   "source": [
    "opts.r = 768"
   ]
  },
  {
   "cell_type": "code",
   "execution_count": 17,
   "id": "93870cdf-f6ac-4bcb-92bd-d20ed91f296d",
   "metadata": {},
   "outputs": [],
   "source": [
    "device = torch.device(\"cuda\") if torch.cuda.is_available() else torch.device(\"cpu\")"
   ]
  },
  {
   "cell_type": "code",
   "execution_count": 22,
   "id": "a2625b6c-5258-4f1b-96f4-b96355ec4302",
   "metadata": {},
   "outputs": [],
   "source": [
    "path_model = \"/media/chr/Datasets/model_dino_lora/saved_models/dino_lora_cristobal_r768/last.ckpt\""
   ]
  },
  {
   "cell_type": "code",
   "execution_count": null,
   "id": "be5fed73-12b7-4713-8adf-dd3a7a91d8cf",
   "metadata": {
    "scrolled": true
   },
   "outputs": [],
   "source": [
    "model = Model().to(device)\n",
    "model_checkpoint = torch.load(path_model, map_location=device)\n",
    "model.load_state_dict(model_checkpoint['state_dict'])\n",
    "model.eval()"
   ]
  },
  {
   "cell_type": "code",
   "execution_count": 20,
   "id": "6ddd84fa-aabc-40c5-af2a-5d27fa557645",
   "metadata": {},
   "outputs": [],
   "source": [
    "image = torch.randn([1,3,224,224]).to(device)"
   ]
  },
  {
   "cell_type": "code",
   "execution_count": 21,
   "id": "e5a21869-95e9-46ba-8464-32ad13a84e8a",
   "metadata": {},
   "outputs": [
    {
     "data": {
      "text/plain": [
       "torch.Size([1, 768])"
      ]
     },
     "execution_count": 21,
     "metadata": {},
     "output_type": "execute_result"
    }
   ],
   "source": [
    "model(image, dtype='image').shape"
   ]
  },
  {
   "cell_type": "code",
   "execution_count": null,
   "id": "52efc7ba-5bd1-4a0a-be8c-3560c86e1d5c",
   "metadata": {},
   "outputs": [],
   "source": []
  }
 ],
 "metadata": {
  "kernelspec": {
   "display_name": "Python 3 (ipykernel)",
   "language": "python",
   "name": "python3"
  },
  "language_info": {
   "codemirror_mode": {
    "name": "ipython",
    "version": 3
   },
   "file_extension": ".py",
   "mimetype": "text/x-python",
   "name": "python",
   "nbconvert_exporter": "python",
   "pygments_lexer": "ipython3",
   "version": "3.12.3"
  }
 },
 "nbformat": 4,
 "nbformat_minor": 5
}
